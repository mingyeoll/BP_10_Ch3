{
  "nbformat": 4,
  "nbformat_minor": 0,
  "metadata": {
    "colab": {
      "provenance": [],
      "authorship_tag": "ABX9TyPNWOYOoYUynsjN+sdneWbm",
      "include_colab_link": true
    },
    "kernelspec": {
      "name": "python3",
      "display_name": "Python 3"
    },
    "language_info": {
      "name": "python"
    }
  },
  "cells": [
    {
      "cell_type": "markdown",
      "metadata": {
        "id": "view-in-github",
        "colab_type": "text"
      },
      "source": [
        "<a href=\"https://colab.research.google.com/github/mingyeoll/BP_10_Ch3/blob/main/BP_10_Ch3.ipynb\" target=\"_parent\"><img src=\"https://colab.research.google.com/assets/colab-badge.svg\" alt=\"Open In Colab\"/></a>"
      ]
    },
    {
      "cell_type": "code",
      "execution_count": 2,
      "metadata": {
        "colab": {
          "base_uri": "https://localhost:8080/"
        },
        "id": "6wfnpqYi26hj",
        "outputId": "cc27b208-4eb4-4f78-b849-c129fbf0b01f"
      },
      "outputs": [
        {
          "output_type": "stream",
          "name": "stdout",
          "text": [
            "x의 값을 입력하시오.:10\n",
            "y의 값을 입력하시오.:20\n",
            "x와 y의 합은: 30\n",
            "x와 y의 차는: -10\n",
            "x와 y의 곱은: 200\n",
            "x와 y의 평균은: 15.0\n",
            "x와 y의 큰수는: 20\n",
            "x와 y의 작은수는: 10\n"
          ]
        }
      ],
      "source": [
        "x = int(input(\"x의 값을 입력하시오.:\"))\n",
        "y = int(input(\"y의 값을 입력하시오.:\"))\n",
        "\n",
        "print(\"x와 y의 합은:\",x+y)\n",
        "print(\"x와 y의 차는:\",x-y)\n",
        "print(\"x와 y의 곱은:\",x*y)\n",
        "print(\"x와 y의 평균은:\",(x+y)/2)\n",
        "print(\"x와 y의 큰수는:\",max(x,y))\n",
        "print(\"x와 y의 작은수는:\",min(x,y))"
      ]
    },
    {
      "cell_type": "code",
      "source": [
        "r = float(input(\"r값을 입력하시오: \")) #변수 r의 값을 사용자로부터 받는다. float형으로\n",
        "h = float(input(\"h값을 입력하시오: \")) #변수 h의 값을 사용자로부터 받는다. float형으로\n",
        "vol = 3.141592 * r**2 * h\n",
        "print(\"원기둥의 부피는:\", vol, \"입니다.\")\n"
      ],
      "metadata": {
        "colab": {
          "base_uri": "https://localhost:8080/"
        },
        "id": "GB2zun1w3HFl",
        "outputId": "07c6ec0e-b1eb-4a23-a9af-bf418f9a3f5b"
      },
      "execution_count": null,
      "outputs": [
        {
          "output_type": "stream",
          "name": "stdout",
          "text": [
            "r값을 입력하시오: 10\n",
            "h값을 입력하시오: 100\n",
            "원기둥의 부피는: 31415.92 입니다.\n"
          ]
        }
      ]
    },
    {
      "cell_type": "code",
      "source": [
        "number = int(input(\"정수를 입력하시오.:\"))\n",
        "sum = 0                    #변수 sum을 초기화 0으로 한다 \n",
        "sum = sum + number % 10\n",
        "number = number // 10\n",
        "sum = sum + number % 10\n",
        "number = number // 10\n",
        "sum = sum + number % 10\n",
        "number = number // 10\n",
        "sum = sum + number % 10\n",
        "number = number // 10\n",
        "\n",
        "print(\"자리수의 합: \",str(sum))"
      ],
      "metadata": {
        "colab": {
          "base_uri": "https://localhost:8080/"
        },
        "id": "hnRr9meY6oEf",
        "outputId": "ffe123ec-ad25-48a0-ccbd-9224a0a4e9e0"
      },
      "execution_count": null,
      "outputs": [
        {
          "output_type": "stream",
          "name": "stdout",
          "text": [
            "정수를 입력하시오.:1234\n",
            "자리수의 합:  10\n"
          ]
        }
      ]
    },
    {
      "cell_type": "code",
      "source": [
        "x1 = int(input(\"x1의 값: \"))\n",
        "y1 = int(input(\"y1의 값: \")) \n",
        "\n",
        "x2 = int(input(\"x2의 값: \"))\n",
        "y2 = int(input(\"y2의 값: \"))\n",
        "dist = ((x2-x1)**2 + (y2-y1)**2)**0.5\n",
        "print(\"두점 사이의 거리=\", dist,\"입니다.\")"
      ],
      "metadata": {
        "colab": {
          "base_uri": "https://localhost:8080/"
        },
        "id": "ATu_-nby8Woe",
        "outputId": "ce749605-c7fb-4e55-9f21-ffb9a13abaea"
      },
      "execution_count": null,
      "outputs": [
        {
          "output_type": "stream",
          "name": "stdout",
          "text": [
            "x1의 값: 0\n",
            "y1의 값: 0\n",
            "x2의 값: 100\n",
            "y2의 값: 100\n",
            "두점 사이의 거리= 141.4213562373095 입니다.\n"
          ]
        }
      ]
    },
    {
      "cell_type": "code",
      "source": [
        "import time\n",
        "fsecond=time.time()\n",
        "total_sec = int(fsecond)\n",
        "total_min = total_sec // 60\n",
        "minute = total_min % 60\n",
        "total_hour = total_min // 60\n",
        "hour = total_hour % 24\n",
        "\n",
        "print(\"현재시각은 (영국 그리니치 표준시각): \", str(hour) + \"시\"+ str(minute) +\"분\")"
      ],
      "metadata": {
        "colab": {
          "base_uri": "https://localhost:8080/"
        },
        "id": "emMn4AF2IaXW",
        "outputId": "ed79ac27-5552-4b28-9299-31c7b9884b19"
      },
      "execution_count": null,
      "outputs": [
        {
          "output_type": "stream",
          "name": "stdout",
          "text": [
            "현재시각은 (영국 그리니치 표준시각):  3시49분\n"
          ]
        }
      ]
    },
    {
      "cell_type": "code",
      "source": [
        "weight = int(input(\"물체의 무게를 입력하시오(킬로그램): \"))\n",
        "speed = int(input(\"물체의 속도를 입력하시오(미터/초): \"))\n",
        " \n",
        "print(\"물체는\", 1/2 * weight* speed**2, \"(줄)의 에너지를 가지고 있다.\")"
      ],
      "metadata": {
        "colab": {
          "base_uri": "https://localhost:8080/"
        },
        "id": "F-mp9HIHJvTL",
        "outputId": "547b67a9-9513-455a-816e-f5ccd998cbb8"
      },
      "execution_count": 3,
      "outputs": [
        {
          "output_type": "stream",
          "name": "stdout",
          "text": [
            "물체의 무게를 입력하시오(킬로그램): 10\n",
            "물체의 속도를 입력하시오(미터/초): 100\n",
            "물체는 50000.0 (줄)의 에너지를 가지고 있다.\n"
          ]
        }
      ]
    }
  ]
}